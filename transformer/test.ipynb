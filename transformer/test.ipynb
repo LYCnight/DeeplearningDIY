{
 "cells": [
  {
   "cell_type": "code",
   "execution_count": 37,
   "metadata": {},
   "outputs": [
    {
     "name": "stdout",
     "output_type": "stream",
     "text": [
      "tensor([[[ 0,  1],\n",
      "         [ 4,  5],\n",
      "         [ 8,  9]],\n",
      "\n",
      "        [[12, 13],\n",
      "         [16, 17],\n",
      "         [20, 21]],\n",
      "\n",
      "        [[24, 25],\n",
      "         [28, 29],\n",
      "         [32, 33]],\n",
      "\n",
      "        [[36, 37],\n",
      "         [40, 41],\n",
      "         [44, 45]],\n",
      "\n",
      "        [[48, 49],\n",
      "         [52, 53],\n",
      "         [56, 57]]])\n"
     ]
    }
   ],
   "source": [
    "import torch\n",
    "import math\n",
    "\n",
    "max_len = 5\n",
    "seq_len = 3\n",
    "batch_size = 3\n",
    "d_model = 4\n",
    "\n",
    "x = torch.arange(0, max_len * batch_size * d_model)  # 生成随机的 3D 输入张量\n",
    "x.size()\n",
    "y = x.reshape(max_len, batch_size, d_model)  # 生成随机的 3D 输入张量\n",
    "y.size()\n",
    "# 为什么接下来这四行效果一样？\n",
    "print(y[:,:,:2])"
   ]
  },
  {
   "cell_type": "code",
   "execution_count": 30,
   "metadata": {},
   "outputs": [
    {
     "name": "stdout",
     "output_type": "stream",
     "text": [
      "Original tensor y:\n",
      "tensor([[ 0,  1,  2,  3],\n",
      "        [ 4,  5,  6,  7],\n",
      "        [ 8,  9, 10, 11]])\n",
      "Slice of y:\n",
      "tensor([[0, 1, 2],\n",
      "        [4, 5, 6]])\n",
      "Modified slice_y:\n",
      "tensor([[99,  1,  2],\n",
      "        [ 4,  5,  6]])\n",
      "Original tensor y after modifying slice_y:\n",
      "tensor([[99,  1,  2,  3],\n",
      "        [ 4,  5,  6,  7],\n",
      "        [ 8,  9, 10, 11]])\n"
     ]
    }
   ],
   "source": [
    "import torch\n",
    "\n",
    "# 创建一个张量\n",
    "y = torch.arange(0, 12).reshape(3, 4)\n",
    "print(\"Original tensor y:\")\n",
    "print(y)\n",
    "\n",
    "# 创建一个切片\n",
    "slice_y = y[:2, :3]\n",
    "print(\"Slice of y:\")\n",
    "print(slice_y)\n",
    "\n",
    "# 修改切片\n",
    "slice_y[0, 0] = 99\n",
    "\n",
    "print(\"Modified slice_y:\")\n",
    "print(slice_y)\n",
    "\n",
    "print(\"Original tensor y after modifying slice_y:\")\n",
    "print(y)\n"
   ]
  },
  {
   "cell_type": "code",
   "execution_count": 31,
   "metadata": {},
   "outputs": [
    {
     "name": "stdout",
     "output_type": "stream",
     "text": [
      "Original list: [0, 1, 2, 3, 4]\n",
      "Slice of list: [99, 2, 3]\n"
     ]
    }
   ],
   "source": [
    "lst = [0, 1, 2, 3, 4]\n",
    "slice_lst = lst[1:4]\n",
    "slice_lst[0] = 99\n",
    "\n",
    "print(\"Original list:\", lst)         # [0, 1, 2, 3, 4]\n",
    "print(\"Slice of list:\", slice_lst)  # [99, 2, 3]\n"
   ]
  },
  {
   "cell_type": "code",
   "execution_count": 34,
   "metadata": {},
   "outputs": [
    {
     "name": "stdout",
     "output_type": "stream",
     "text": [
      "Original tuple: (0, 1, 2, 3, 4)\n",
      "Slice of tuple: (1, 2, 3)\n"
     ]
    }
   ],
   "source": [
    "tup = (0, 1, 2, 3, 4)\n",
    "slice_tup = tup[1:4]\n",
    "slice_tup[0]\n",
    "\n",
    "print(\"Original tuple:\", tup)       # (0, 1, 2, 3, 4)\n",
    "print(\"Slice of tuple:\", slice_tup) # (1, 2, 3)\n"
   ]
  },
  {
   "cell_type": "code",
   "execution_count": null,
   "metadata": {},
   "outputs": [],
   "source": []
  }
 ],
 "metadata": {
  "kernelspec": {
   "display_name": "marker",
   "language": "python",
   "name": "python3"
  },
  "language_info": {
   "codemirror_mode": {
    "name": "ipython",
    "version": 3
   },
   "file_extension": ".py",
   "mimetype": "text/x-python",
   "name": "python",
   "nbconvert_exporter": "python",
   "pygments_lexer": "ipython3",
   "version": "3.11.9"
  }
 },
 "nbformat": 4,
 "nbformat_minor": 2
}
